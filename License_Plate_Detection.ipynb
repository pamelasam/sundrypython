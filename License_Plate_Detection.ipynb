{
 "cells": [
  {
   "cell_type": "code",
   "execution_count": 2,
   "id": "63801e28",
   "metadata": {},
   "outputs": [
    {
     "name": "stdout",
     "output_type": "stream",
     "text": [
      "x,y,w,h:  460.1430969238281 239.0753631591797 49.090965270996094 204.8507843017578\n",
      "area:  10056.322737893905\n",
      "angle:  176.8201675415039\n",
      "ratio:  4.172881571403683\n",
      "[[358, 209, 205, 61]]\n"
     ]
    }
   ],
   "source": [
    "import cv2\n",
    "from matplotlib import pyplot as plt\n",
    "import numpy as np\n",
    "import imutils\n",
    "#1. Read in Image, Grayscale and Blur\n",
    "img = cv2.imread('../resources/front3.jpeg')\n",
    "gray = cv2.cvtColor(img, cv2.COLOR_BGR2GRAY)\n",
    "bfilter = cv2.bilateralFilter(gray, 11, 17, 17) #Noise reduction\n",
    "imgBlurred = cv2.GaussianBlur(bfilter, (7, 7), 0)\n",
    "\n",
    "# sobelX to get the vertical edges\n",
    "sobelx = cv2.Sobel(imgBlurred, cv2.CV_8U, 1, 0, ksize = 3)\n",
    "edged = cv2.Canny(sobelx, 30, 200) #Edge detection\n",
    "# otsu's thresholding\n",
    "ret2, threshold_img = cv2.threshold(sobelx, 0, 255,cv2.THRESH_BINARY + cv2.THRESH_OTSU)\n",
    " \n",
    "element_structure = cv2.getStructuringElement(shape = cv2.MORPH_RECT, ksize=(30, 5))\n",
    "morph_n_thresholded_img = threshold_img.copy()\n",
    "cv2.morphologyEx(src = threshold_img,op = cv2.MORPH_CLOSE,kernel = element_structure,dst = morph_n_thresholded_img)\n",
    "\n",
    "keypoints = cv2.findContours(morph_n_thresholded_img,mode = cv2.RETR_EXTERNAL,method = cv2.CHAIN_APPROX_NONE)\n",
    "contours = imutils.grab_contours(keypoints)\n",
    "all_contours = sorted(contours, key=cv2.contourArea, reverse=True)[:10]\n",
    "contour_img=img.copy()\n",
    "cv2.drawContours(contour_img,all_contours,-1,(0,255,0),3)\n",
    "\n",
    "# find possible plates\n",
    "possible_plates = []\n",
    "# minimum area of the plate\n",
    "min_area = 4500\n",
    "# maximum area of the plate\n",
    "max_area = 30000\n",
    "ratioMin = 2.5\n",
    "ratioMax = 7\n",
    "for cnts in all_contours:\n",
    "    min_rect = cv2.minAreaRect(cnts)\n",
    "    (x, y), (w, h), rect_angle = min_rect\n",
    "    if (h == 0 or w == 0):\n",
    "        continue\n",
    "    if (w > h):\n",
    "        angle = -rect_angle\n",
    "    else:\n",
    "        angle = 90 + rect_angle\n",
    "    if angle < 15:\n",
    "        continue\n",
    "    \n",
    "    area = w * h\n",
    "\n",
    "    ratio = float(w) / float(h)\n",
    "\n",
    "    if ratio < 1:\n",
    "        ratio = 1 / ratio\n",
    "    if (area < min_area or area > max_area) or (ratio < ratioMin or ratio > ratioMax):\n",
    "        continue\n",
    "    \n",
    "    print(\"x,y,w,h: \",x,y,w,h)\n",
    "    print(\"area: \",area)\n",
    "    print(\"angle: \",angle)\n",
    "    print(\"ratio: \",ratio)\n",
    "    x, y, w, h = cv2.boundingRect(cnts)\n",
    "    plate = img[y:y + h, x:x + w]\n",
    "    cv2.imshow('plate', plate)\n",
    "    cv2.waitKey()\n",
    "    cv2.destroyAllWindows()\n",
    "    possible_plates.append([x,y,w,h])\n",
    "print(possible_plates)"
   ]
  },
  {
   "cell_type": "code",
   "execution_count": null,
   "id": "96b900c8",
   "metadata": {},
   "outputs": [],
   "source": []
  }
 ],
 "metadata": {
  "kernelspec": {
   "display_name": "Python 3 (ipykernel)",
   "language": "python",
   "name": "python3"
  },
  "language_info": {
   "codemirror_mode": {
    "name": "ipython",
    "version": 3
   },
   "file_extension": ".py",
   "mimetype": "text/x-python",
   "name": "python",
   "nbconvert_exporter": "python",
   "pygments_lexer": "ipython3",
   "version": "3.10.0"
  }
 },
 "nbformat": 4,
 "nbformat_minor": 5
}
