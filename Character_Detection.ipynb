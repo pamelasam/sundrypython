{
 "cells": [
  {
   "cell_type": "code",
   "execution_count": null,
   "id": "827f9eaa",
   "metadata": {},
   "outputs": [],
   "source": [
    "import cv2\n",
    "from matplotlib import pyplot as plt\n",
    "import numpy as np\n",
    "import imutils\n",
    "\n",
    "#1. Read in Image, Grayscale and Blur\n",
    "img = cv2.imread('./resources/python.png')\n",
    "img_copy = img.copy()\n",
    "gray = cv2.cvtColor(img_copy, cv2.COLOR_BGR2GRAY)\n",
    "#2. Apply filter and find edges for localization\n",
    "bfilter = cv2.bilateralFilter(gray, 13, 15, 15) #Noise reduction,remove the unwanted details from an image\n",
    "edged = cv2.Canny(bfilter, 120, 255, 1) #Edge detection\n",
    "#3. Find Contours and Apply Mask\n",
    "keypoints = cv2.findContours(edged.copy(), cv2.RETR_LIST, cv2.CHAIN_APPROX_SIMPLE)\n",
    "contours = imutils.grab_contours(keypoints)\n",
    "contours = sorted(contours, key=cv2.contourArea, reverse=True)[:15]\n",
    "contour_img=img.copy()\n",
    "cv2.drawContours(contour_img,contours,-1,(0,255,0),3)\n",
    "min_area = 2500\n",
    "max_area = 6000\n",
    "cropped_imgs = []\n",
    "contour_mark_img=img.copy()\n",
    "for c in contours:\n",
    "    area = cv2.contourArea(c)\n",
    "    if area > min_area and area < max_area:\n",
    "        x,y,w,h = cv2.boundingRect(c)\n",
    "        cropped_img = img[y:y+h, x:x+w]\n",
    "        cropped_imgs.append(cropped_img)\n",
    "        cv2.rectangle(contour_mark_img, (x, y), (x + w, y + h), (36,255,12), 2)\n",
    "plt.imshow(cv2.cvtColor(contour_mark_img, cv2.COLOR_BGR2RGB))\n"
   ]
  }
 ],
 "metadata": {
  "kernelspec": {
   "display_name": "Python 3 (ipykernel)",
   "language": "python",
   "name": "python3"
  },
  "language_info": {
   "codemirror_mode": {
    "name": "ipython",
    "version": 3
   },
   "file_extension": ".py",
   "mimetype": "text/x-python",
   "name": "python",
   "nbconvert_exporter": "python",
   "pygments_lexer": "ipython3",
   "version": "3.10.0"
  }
 },
 "nbformat": 4,
 "nbformat_minor": 5
}
