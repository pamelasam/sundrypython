{
 "cells": [
  {
   "cell_type": "code",
   "execution_count": 2,
   "id": "4d45aa67",
   "metadata": {},
   "outputs": [
    {
     "name": "stdout",
     "output_type": "stream",
     "text": [
      "AspectRatio 0.8448060075093867, Angle 90.0\n",
      "AspectRatio 0.9738562091503268, Angle 90.0\n",
      "AspectRatio 0.7378574981138944, Angle 35.311214447021484\n",
      "AspectRatio 0.46551724137931033, Angle 90.0\n"
     ]
    }
   ],
   "source": [
    "import cv2\n",
    "import numpy as np\n",
    "from matplotlib import pyplot as plt\n",
    "import imutils\n",
    "\n",
    "font = cv2.FONT_HERSHEY_COMPLEX\n",
    "img = cv2.imread(\"../resources/basic_shapes2.jpg\")\n",
    "gray = cv2.cvtColor(img, cv2.COLOR_BGR2GRAY)\n",
    "_, threshold = cv2.threshold(gray, 240, 255, cv2.THRESH_BINARY)\n",
    "dilated = cv2.dilate(threshold, None, iterations=3)\n",
    "keypoints = cv2.findContours(dilated, cv2.RETR_TREE, cv2.CHAIN_APPROX_SIMPLE)\n",
    "contours = imutils.grab_contours(keypoints)\n",
    "\n",
    "i = 1\n",
    "for cnt in contours:\n",
    "    approx = cv2.approxPolyDP(cnt, 0.01*cv2.arcLength(cnt, True), True)\n",
    "    cv2.drawContours(img, [approx], 0, (0), 5)\n",
    "    x = approx.ravel()[0]-30\n",
    "    y = approx.ravel()[1]-10\n",
    "    text = str(i)+\".\"\n",
    "    if len(approx) == 3:\n",
    "        text += \"Triangle\"\n",
    "    elif len(approx) == 4:\n",
    "        min_rect = cv2.minAreaRect(cnt)\n",
    "        (xr, yr), (w, h), rect_angle = min_rect\n",
    "        aspectRatio = float(w)/h\n",
    "        print(\"AspectRatio \"+ str(aspectRatio)+\", Angle \"+str(rect_angle))\n",
    "        if rect_angle < 90:\n",
    "            text += \"Diamond\"\n",
    "        else:\n",
    "            if aspectRatio >= 0.95 and aspectRatio <=1.05:\n",
    "                text += \"Square\"\n",
    "            else:\n",
    "                text += \"Rectangle\"\n",
    "    elif len(approx) == 5:\n",
    "        text += \"Pentagon\"\n",
    "    elif len(approx) == 10:\n",
    "        text += \"Star\"\n",
    "    elif 6 < len(approx) < 15:\n",
    "        text += \"Ellipse\"\n",
    "    else:\n",
    "        text += \"Circle\"\n",
    "    cv2.putText(img, text, (x, y), font, 0.5, (255,0,255))\n",
    "    i = i + 1\n",
    "     \n",
    "cv2.imshow(\"output\", img)\n",
    "cv2.waitKey(0)\n",
    "cv2.destroyAllWindows()"
   ]
  },
  {
   "cell_type": "code",
   "execution_count": null,
   "id": "984d1af5",
   "metadata": {},
   "outputs": [],
   "source": []
  }
 ],
 "metadata": {
  "kernelspec": {
   "display_name": "Python 3 (ipykernel)",
   "language": "python",
   "name": "python3"
  },
  "language_info": {
   "codemirror_mode": {
    "name": "ipython",
    "version": 3
   },
   "file_extension": ".py",
   "mimetype": "text/x-python",
   "name": "python",
   "nbconvert_exporter": "python",
   "pygments_lexer": "ipython3",
   "version": "3.10.0"
  }
 },
 "nbformat": 4,
 "nbformat_minor": 5
}
